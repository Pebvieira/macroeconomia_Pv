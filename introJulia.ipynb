{
 "cells": [
  {
   "cell_type": "markdown",
   "id": "682c940b",
   "metadata": {},
   "source": [
    "# Introdução à linguagem Julia\n",
    "\n",
    "A computação científica tipicamente requer alto desempenho na elaboração de cálculos, pois estes utilizam plenamente as capacidades dos processadores modernos.  Por isso, tradicionalmente, utilizam-se linguagens que possuem implementações de alto desempenho, tais como, C, Fortran e C++.\n",
    "\n",
    "Porém, tais linguagens exigem um fluxo de trabalho lento, resultante do processo de escrita de código baseado em edição do código-fonte, compilação, correção de bugs, recompilação, execução e, só então, obtenção dos resultados que se necessitava.  Por isso, com a elevação de ganhos de desempenho de computadores pessoais, passou-se a utilizar linguagens interpretadas na experimentação em computação científica a fim de agilizar o fluxo de trabalho de descoberta.\n",
    "\n",
    "É nesse contexto que se passa a utilizar linguagens como MatLab, R, Mathematica e Python.  Tais linguagens, porém, mostram-se excessivamente lentas para trabalhos intensivos, exigindo uma complexa interoperação com linguagens compiladas e, por vezes, reescrita de código.\n",
    "\n",
    "A linguagem Julia surgiu para juntar a facilidade de linguagens interpretadas como Python com a velocidade de linguagens compiladas como C.  Estudaremos, então, tal linguagem com base na:\n",
    "\n",
    "**Referências**\n",
    "\n",
    "[Manual da linguagem Julia](https://docs.julialang.org/en/v1/manual/getting-started/).\n",
    "\n",
    "[Ben Lauwens and Allen Downey (2018).  Think Julia. O'reilly Publications](https://benlauwens.github.io/ThinkJulia.jl/latest/book.html)\n",
    "\n",
    " \n",
    "\n",
    "## Estrutura do código-fonte\n",
    "\n",
    "O código-fonte é formado por caracteres UTF-8 que devem ser salvos em um arquivo de texto com extensão *.jl*.  Para utilizar, no código-fonte, letras gregas e demais símbolos matemáticos comumente usados utiliza-se a marcação Latex seguida da tecla TAB.\n",
    "\n",
    "Comentários são textos escritos em qualquer linguagem natural ou não que não serão considerados pela implementação para gerar código executável.  Os comentários podem conter apenas uma linha e, neste caso, são iniciados pelo caractere \"#' ao passo que comentários de múltiplas linhas são iniciados pelos dupla de caracteres #= e terminados pela dupla de caracteres \"=#\".\n",
    "\n",
    "Veja o exemplo de código com comentários de linha única e de múltiplas linhas a seguir."
   ]
  },
  {
   "cell_type": "code",
   "execution_count": 43,
   "id": "ed93a320",
   "metadata": {},
   "outputs": [],
   "source": [
    "# Exemplo de código Julia com comentários.\n",
    "\n",
    "#= A linha anterior é um comentário de única linha é marcado por um símbolo de numeral (hashtag)\n",
    "ao passo que este texto de várias linhas usa o símbolo de numeral seguido pelo símbolo de igualdade.\n",
    "=#\n"
   ]
  },
  {
   "cell_type": "markdown",
   "id": "63cd53df",
   "metadata": {},
   "source": [
    "Determinadas sequências contíguas de caracteres designarão instruções, que serão nomeadas por meio do que se chama palavra-chave da linguagem.  Tais palavras-chave não podem ser utilizadas para nomear mais nada no código.\n",
    "\n",
    "Um trecho de código pode ser nomeado por uma sequência contígua de caracteres para facilitar a organização do código-fonte.  Tal sequência é denominada *identificador*.  Identificadores devem-se iniciar com uma letra (de a-z ou de A-Z), sublinhado  ou caracteres especiais.\n",
    "\n",
    "Trechos de código que possuem um identificador são chamados de *blocos de código*. Blocos de código podem estar definidos em diferentes arquivos .jl. \n"
   ]
  },
  {
   "cell_type": "markdown",
   "id": "566f6956",
   "metadata": {},
   "source": [
    "## Modelo de dados\n",
    "\n",
    "### Dados, objetos, variáveis e expressões\n",
    "\n",
    "Os dados armazenados em endereços de memória são denominados *objetos* cujos valores podem ser acessados por meio de identificadores denominados variáveis.  \n",
    "\n",
    "Os valores do objetos possuem tipos que determinam as operações que podem ser realizadas com eles. *Nem objetos nem variáveis não possuem tipos, mas apenas seus valores*.  Por isso, não se pode fazer declaração de variável, isto é, reservar um endereço de memória para receber um valor de um determinado tipo.  Assim, quando necessário nomear um valor, faz-se diretamente a atribuição do valor ao nome da variável.\n",
    "\n",
    "Deve-se preferir usar identificadores de variáveis escritos em letras minúsculas e, se necessário para legibilidade, utiliza-se \"sublinhado\" para separar os caracteres da variável.\n",
    "\n",
    "Uma expressão é uma sequência de operações realizadas sobre uma sequencia de valores.  Funções são blocos de código que definem a execução de uma sequência de expressões, tendo, por isso, um valor.  [Módulos](https://docs.julialang.org/en/v1/manual/modules/) são blocos de código contendo ou não funções.\n",
    "\n",
    "Blocos de código definem o que se denomina **escopo de variável**, isto é, o conjunto de variáveis que são passíveis de serem acessadas dentro do bloco de código. Assim, uma variável só existe dentro de um escopo, tendo sua vida limitada por este.  Variáveis locais são aquelas que estão no escopo de um determinado bloco de código ao passo que variáveis globais são aquelas que existem no escopo de todo o código."
   ]
  },
  {
   "cell_type": "markdown",
   "id": "37326e92",
   "metadata": {},
   "source": [
    "### Valores e Tipos\n",
    "\n",
    "Os tipos básicos que os valores podem assumir são:\n",
    "\n",
    "1. (U)IntX, X = 8,16,32,64, 128;\n",
    "2. BigInt;\n",
    "3. FloatX, X = 16,32,64;\n",
    "4. BigFloat;\n",
    "5. ComplexX, X = 32,64,128;\n",
    "6. Rational -  Denota-se por a//b onde a e b são floatDenota-se por a//b onde a e b são float, e\n",
    "7. String.\n",
    "\n",
    "Para saber o tipo de um valor use a função typeof(valor) como no exemplo a seguir:"
   ]
  },
  {
   "cell_type": "code",
   "execution_count": 31,
   "id": "098f2706",
   "metadata": {},
   "outputs": [
    {
     "data": {
      "text/plain": [
       "Int64"
      ]
     },
     "execution_count": 31,
     "metadata": {},
     "output_type": "execute_result"
    }
   ],
   "source": [
    "# Exemplo: descobrindo o tipo de um valor\n",
    "\n",
    "typeof(9)"
   ]
  },
  {
   "cell_type": "markdown",
   "id": "e2bb836f",
   "metadata": {},
   "source": [
    "### Atribuição de variáveis\n",
    "\n",
    "A atribuição de uma variável a um valor é feita com operador de igualdade \"=\". Abaixo veja exemplos de atribuição de variáveis.\n",
    "\n",
    "Pode-se anotar o tipo ou deixar à implementação que faça a inferência do tipo do valor.\n"
   ]
  },
  {
   "cell_type": "code",
   "execution_count": 35,
   "id": "c0d78684",
   "metadata": {},
   "outputs": [
    {
     "data": {
      "text/plain": [
       "10"
      ]
     },
     "execution_count": 35,
     "metadata": {},
     "output_type": "execute_result"
    }
   ],
   "source": [
    "# Exemplo: atribuição usual de um valor a uma variável com inferência de tipo\n",
    "x = 10"
   ]
  },
  {
   "cell_type": "code",
   "execution_count": 40,
   "id": "9945ee13",
   "metadata": {},
   "outputs": [
    {
     "data": {
      "text/plain": [
       "Float16(2.0)"
      ]
     },
     "execution_count": 40,
     "metadata": {},
     "output_type": "execute_result"
    }
   ],
   "source": [
    "# Exemplo: atribuição do valor 2 à variável y com anotação de tipo\n",
    "\n",
    "y = Float16(2)"
   ]
  },
  {
   "cell_type": "code",
   "execution_count": 25,
   "id": "5afa4399",
   "metadata": {},
   "outputs": [
    {
     "data": {
      "text/plain": [
       "7"
      ]
     },
     "execution_count": 25,
     "metadata": {},
     "output_type": "execute_result"
    }
   ],
   "source": [
    "# Exemplo = atribuindo o valor  à variável _\n",
    "_ = 7"
   ]
  },
  {
   "cell_type": "code",
   "execution_count": 42,
   "id": "4dc60e80",
   "metadata": {},
   "outputs": [
    {
     "data": {
      "text/plain": [
       "9"
      ]
     },
     "execution_count": 42,
     "metadata": {},
     "output_type": "execute_result"
    }
   ],
   "source": [
    "# Exemplo: usando Latex para nome endereço de memória.  No caso, usou-se \\delta\n",
    "δ = 9 "
   ]
  },
  {
   "cell_type": "code",
   "execution_count": 28,
   "id": "35df241f",
   "metadata": {},
   "outputs": [
    {
     "data": {
      "text/plain": [
       "String"
      ]
     },
     "execution_count": 28,
     "metadata": {},
     "output_type": "execute_result"
    }
   ],
   "source": [
    "# Exemplo: determinação do tipo de dado armazenado no endereço denotado pela variável x. \n",
    "x = \"casa\"\n",
    "typeof(x)"
   ]
  },
  {
   "cell_type": "markdown",
   "id": "e1040954",
   "metadata": {},
   "source": [
    "## Modelo de execução\n",
    "Os endereços de memória designados pelas variáveis podem ser utilizados ao longo de todo o tempo de execução ou apenas durante uma parte dele.  O escopo de variáveis determina o que chamado espaço de nomes (namespace).  \n",
    "\n",
    "O código fonte designa como os objetos nos endereços de memória do computador deverão ser manipulados pelo processador.  O valor do conjunto de todas as variáveis do programa em um dado instante do tempo de execução é chamado de **estado** do programa.\n",
    "\n",
    "\n"
   ]
  },
  {
   "cell_type": "code",
   "execution_count": null,
   "id": "5a632df6",
   "metadata": {},
   "outputs": [],
   "source": []
  },
  {
   "cell_type": "code",
   "execution_count": null,
   "id": "e7539e66",
   "metadata": {},
   "outputs": [],
   "source": []
  },
  {
   "cell_type": "code",
   "execution_count": null,
   "id": "8aac3df5",
   "metadata": {},
   "outputs": [],
   "source": []
  },
  {
   "cell_type": "markdown",
   "id": "37d7af66",
   "metadata": {},
   "source": [
    "**Exercícios 2-3**\n",
    "\n",
    "Referência: [ThinkJulia, cap 2](https://benlauwens.github.io/ThinkJulia.jl/latest/book.html#_exercises_2)"
   ]
  },
  {
   "cell_type": "code",
   "execution_count": 9,
   "id": "75b5ea20",
   "metadata": {},
   "outputs": [
    {
     "name": "stdout",
     "output_type": "stream",
     "text": [
      "1570.7963267948965\n"
     ]
    }
   ],
   "source": [
    "# Exercício 1\n",
    "r = 5\n",
    "volume = 4*pi*r^3\n",
    "println(volume)"
   ]
  },
  {
   "cell_type": "code",
   "execution_count": 10,
   "id": "73debac7",
   "metadata": {},
   "outputs": [
    {
     "name": "stdout",
     "output_type": "stream",
     "text": [
      "945.4499999999999\n"
     ]
    }
   ],
   "source": [
    "# Exercício 2\n",
    "# Entrada de dados\n",
    "cover_price = 24.95\n",
    "discount = 0.4\n",
    "shipping_costs_first_copy = 3 # 3 para a primeira cópia\n",
    "shipping_costs_additional_copies = 0.75\n",
    "number_copies = 60\n",
    "\n",
    "# Processamento de dados\n",
    "total_wholesale = number_copies*cover_price*(1 - discount) +\n",
    "shipping_costs_first_copy +\n",
    "shipping_costs_additional_copies*(number_copies-1)\n",
    "\n",
    "# Saída de dados\n",
    "println(total_wholesale)"
   ]
  },
  {
   "cell_type": "code",
   "execution_count": null,
   "id": "3fea621b",
   "metadata": {},
   "outputs": [],
   "source": []
  }
 ],
 "metadata": {
  "kernelspec": {
   "display_name": "Julia 1.7.3",
   "language": "julia",
   "name": "julia-1.7"
  },
  "language_info": {
   "file_extension": ".jl",
   "mimetype": "application/julia",
   "name": "julia",
   "version": "1.7.3"
  }
 },
 "nbformat": 4,
 "nbformat_minor": 5
}
